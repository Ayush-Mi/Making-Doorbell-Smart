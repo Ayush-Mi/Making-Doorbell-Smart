{
 "cells": [
  {
   "cell_type": "code",
   "execution_count": 1,
   "metadata": {},
   "outputs": [],
   "source": [
    "import numpy as np\n",
    "import pandas as pd\n",
    "import tensorflow as tf\n",
    "import glob\n",
    "import time\n",
    "import cv2\n",
    "import matplotlib.pyplot as plt\n",
    "import os\n",
    "import datetime\n",
    "import uuid\n",
    "from face_detect import face_detect\n",
    "from face_rec import face_rec"
   ]
  },
  {
   "cell_type": "markdown",
   "metadata": {},
   "source": [
    "#### Face detection Model"
   ]
  },
  {
   "cell_type": "code",
   "execution_count": 2,
   "metadata": {},
   "outputs": [],
   "source": [
    "# The detection object returns two images as an array\n",
    "# The first is a dictionary of all the images detected\n",
    "# The second is the original image with bounding boxes around the detected faces\n",
    "\n",
    "model = face_detect(model='res10_300x300_ssd_iter_140000.caffemodel',proto='deploy.prototxt.txt')\n",
    "x,y = model.detect_face('./test_1.jpg')"
   ]
  },
  {
   "cell_type": "markdown",
   "metadata": {},
   "source": [
    "#### Face Verification Model"
   ]
  },
  {
   "cell_type": "code",
   "execution_count": 3,
   "metadata": {},
   "outputs": [],
   "source": [
    "# Using Face recognition to compare current images with the image database\n",
    "# It also checks if the unknown face has already been detected prviously\n",
    "\n",
    "detect = face_rec('./image_db/')\n",
    "repeat_detect = face_rec('./unknown_faces/')"
   ]
  },
  {
   "cell_type": "code",
   "execution_count": 4,
   "metadata": {},
   "outputs": [],
   "source": [
    "# Function to save the face image and store metadata in master_file.csv\n",
    "\n",
    "def save_data(img,file_name,timestamp,date,repeat):\n",
    "    if os.path.exists('./master_file.csv'):\n",
    "        df = pd.read_csv('./master_file.csv',index_col=[0])\n",
    "    else:\n",
    "        df = pd.DataFrame(columns=['file_path','time','date','repeat'])\n",
    "    df2 = {'file_path':file_name,'time':timestamp,'date':date,'repeat':repeat}\n",
    "    df = df.append(df2,ignore_index=True)\n",
    "    df.to_csv('master_file.csv')\n",
    "    \n",
    "    if not repeat:\n",
    "        img = cv2.cvtColor(img,cv2.COLOR_BGR2RGB)\n",
    "        cv2.imwrite(file_name,img)\n",
    "    print(\"file saved at {}\".format(file_name))\n"
   ]
  },
  {
   "cell_type": "markdown",
   "metadata": {},
   "source": [
    "#### Testing"
   ]
  },
  {
   "cell_type": "code",
   "execution_count": 6,
   "metadata": {},
   "outputs": [
    {
     "name": "stdout",
     "output_type": "stream",
     "text": [
      "1/1 [==============================] - 0s 38ms/step\n",
      "1/1 [==============================] - 0s 36ms/step\n",
      "repeat_detect\n",
      "file saved at ./unknown_faces/0e0c3102-ac26-4af9-9d82-9c7448d72c53.jpg\n",
      "1/1 [==============================] - 0s 35ms/step\n",
      "1/1 [==============================] - 0s 34ms/step\n",
      "1/1 [==============================] - 0s 32ms/step\n",
      "1/1 [==============================] - 0s 33ms/step\n"
     ]
    },
    {
     "name": "stderr",
     "output_type": "stream",
     "text": [
      "/var/folders/hx/8ktl0wt56q7dx073nt1x6dsm0000gp/T/ipykernel_27309/2395381240.py:9: FutureWarning: The frame.append method is deprecated and will be removed from pandas in a future version. Use pandas.concat instead.\n",
      "  df = df.append(df2,ignore_index=True)\n"
     ]
    },
    {
     "name": "stdout",
     "output_type": "stream",
     "text": [
      "repeat_detect\n",
      "file saved at ./unknown_faces/d7dbd5e0-8db3-424d-902b-df296cea64ed.jpg\n",
      "1/1 [==============================] - 0s 34ms/step\n",
      "1/1 [==============================] - 0s 32ms/step\n",
      "1/1 [==============================] - 0s 35ms/step\n"
     ]
    },
    {
     "name": "stderr",
     "output_type": "stream",
     "text": [
      "/var/folders/hx/8ktl0wt56q7dx073nt1x6dsm0000gp/T/ipykernel_27309/2395381240.py:9: FutureWarning: The frame.append method is deprecated and will be removed from pandas in a future version. Use pandas.concat instead.\n",
      "  df = df.append(df2,ignore_index=True)\n"
     ]
    },
    {
     "name": "stdout",
     "output_type": "stream",
     "text": [
      "1/1 [==============================] - 0s 35ms/step\n",
      "1/1 [==============================] - 0s 35ms/step\n",
      "1/1 [==============================] - 0s 35ms/step\n",
      "repeat_detect\n",
      "file saved at ./unknown_faces/b217d864-8763-4cbc-8df6-e49dc62adc19.jpg\n"
     ]
    },
    {
     "name": "stderr",
     "output_type": "stream",
     "text": [
      "/var/folders/hx/8ktl0wt56q7dx073nt1x6dsm0000gp/T/ipykernel_27309/2395381240.py:9: FutureWarning: The frame.append method is deprecated and will be removed from pandas in a future version. Use pandas.concat instead.\n",
      "  df = df.append(df2,ignore_index=True)\n"
     ]
    }
   ],
   "source": [
    "for i in x.keys():\n",
    "    img = cv2.resize(x[i],(160,160))\n",
    "    img = np.expand_dims(img,axis=0)\n",
    "    \n",
    "    if not detect.face_check(img):\n",
    "        if not repeat_detect.face_check(img):\n",
    "            print(\"Unknown face detected\")\n",
    "            data = datetime.datetime.now().strftime('%Y-%m-%d %H:%M:%S')\n",
    "            f_name = './unknown_faces/'+str(uuid.uuid4())+'.jpg'\n",
    "            save_data(img[0],file_name=f_name,timestamp=str(data[11:]),date= str(data[:10]),repeat=False)\n",
    "        else:\n",
    "            print('repeat_detect')\n",
    "            data = datetime.datetime.now().strftime('%Y-%m-%d %H:%M:%S')\n",
    "            f_name = './unknown_faces/'+str(uuid.uuid4())+'.jpg'\n",
    "            save_data(img[0],file_name=f_name,timestamp=str(data[11:]),date= str(data[:10]),repeat=True)\n",
    "\n"
   ]
  },
  {
   "cell_type": "code",
   "execution_count": null,
   "metadata": {},
   "outputs": [],
   "source": []
  }
 ],
 "metadata": {
  "kernelspec": {
   "display_name": "Python 3.9.12 ('work': venv)",
   "language": "python",
   "name": "python3"
  },
  "language_info": {
   "codemirror_mode": {
    "name": "ipython",
    "version": 3
   },
   "file_extension": ".py",
   "mimetype": "text/x-python",
   "name": "python",
   "nbconvert_exporter": "python",
   "pygments_lexer": "ipython3",
   "version": "3.9.12"
  },
  "orig_nbformat": 4,
  "vscode": {
   "interpreter": {
    "hash": "cbb4c99ba6a158315ca45ade86b338397709de922c2faeb37289f32131d55cc1"
   }
  }
 },
 "nbformat": 4,
 "nbformat_minor": 2
}
